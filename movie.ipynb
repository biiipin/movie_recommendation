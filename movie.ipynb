{
 "cells": [
  {
   "cell_type": "code",
   "execution_count": 2,
   "id": "8aad5f48",
   "metadata": {},
   "outputs": [],
   "source": [
    "import pandas as pd"
   ]
  },
  {
   "cell_type": "code",
   "execution_count": 3,
   "id": "96532adf",
   "metadata": {},
   "outputs": [
    {
     "data": {
      "text/html": [
       "<div>\n",
       "<style scoped>\n",
       "    .dataframe tbody tr th:only-of-type {\n",
       "        vertical-align: middle;\n",
       "    }\n",
       "\n",
       "    .dataframe tbody tr th {\n",
       "        vertical-align: top;\n",
       "    }\n",
       "\n",
       "    .dataframe thead th {\n",
       "        text-align: right;\n",
       "    }\n",
       "</style>\n",
       "<table border=\"1\" class=\"dataframe\">\n",
       "  <thead>\n",
       "    <tr style=\"text-align: right;\">\n",
       "      <th></th>\n",
       "      <th>id</th>\n",
       "      <th>title</th>\n",
       "      <th>vote_average</th>\n",
       "      <th>vote_count</th>\n",
       "      <th>status</th>\n",
       "      <th>release_date</th>\n",
       "      <th>revenue</th>\n",
       "      <th>runtime</th>\n",
       "      <th>adult</th>\n",
       "      <th>backdrop_path</th>\n",
       "      <th>...</th>\n",
       "      <th>genres</th>\n",
       "      <th>production_companies</th>\n",
       "      <th>production_countries</th>\n",
       "      <th>spoken_languages</th>\n",
       "      <th>keywords</th>\n",
       "      <th>directors</th>\n",
       "      <th>writers</th>\n",
       "      <th>averageRating</th>\n",
       "      <th>numVotes</th>\n",
       "      <th>cast</th>\n",
       "    </tr>\n",
       "  </thead>\n",
       "  <tbody>\n",
       "    <tr>\n",
       "      <th>0</th>\n",
       "      <td>27205</td>\n",
       "      <td>Inception</td>\n",
       "      <td>8.364</td>\n",
       "      <td>34495</td>\n",
       "      <td>Released</td>\n",
       "      <td>2010-07-15</td>\n",
       "      <td>825532764</td>\n",
       "      <td>148</td>\n",
       "      <td>False</td>\n",
       "      <td>/8ZTVqvKDQ8emSGUEMjsS4yHAwrp.jpg</td>\n",
       "      <td>...</td>\n",
       "      <td>Action, Science Fiction, Adventure</td>\n",
       "      <td>Legendary Pictures, Syncopy, Warner Bros. Pict...</td>\n",
       "      <td>United Kingdom, United States of America</td>\n",
       "      <td>English, French, Japanese, Swahili</td>\n",
       "      <td>rescue, mission, dream, airplane, paris, franc...</td>\n",
       "      <td>Christopher Nolan</td>\n",
       "      <td>Christopher Nolan</td>\n",
       "      <td>8.8</td>\n",
       "      <td>2684780</td>\n",
       "      <td>Leonardo DiCaprio, Joseph Gordon-Levitt, Ken W...</td>\n",
       "    </tr>\n",
       "    <tr>\n",
       "      <th>1</th>\n",
       "      <td>157336</td>\n",
       "      <td>Interstellar</td>\n",
       "      <td>8.417</td>\n",
       "      <td>32571</td>\n",
       "      <td>Released</td>\n",
       "      <td>2014-11-05</td>\n",
       "      <td>701729206</td>\n",
       "      <td>169</td>\n",
       "      <td>False</td>\n",
       "      <td>/pbrkL804c8yAv3zBZR4QPEafpAR.jpg</td>\n",
       "      <td>...</td>\n",
       "      <td>Adventure, Drama, Science Fiction</td>\n",
       "      <td>Legendary Pictures, Syncopy, Lynda Obst Produc...</td>\n",
       "      <td>United Kingdom, United States of America</td>\n",
       "      <td>English</td>\n",
       "      <td>rescue, future, spacecraft, race against time,...</td>\n",
       "      <td>Christopher Nolan</td>\n",
       "      <td>Jonathan Nolan, Christopher Nolan</td>\n",
       "      <td>8.7</td>\n",
       "      <td>2346977</td>\n",
       "      <td>Matthew McConaughey, Anne Hathaway, Michael Ca...</td>\n",
       "    </tr>\n",
       "    <tr>\n",
       "      <th>2</th>\n",
       "      <td>155</td>\n",
       "      <td>The Dark Knight</td>\n",
       "      <td>8.512</td>\n",
       "      <td>30619</td>\n",
       "      <td>Released</td>\n",
       "      <td>2008-07-16</td>\n",
       "      <td>1004558444</td>\n",
       "      <td>152</td>\n",
       "      <td>False</td>\n",
       "      <td>/nMKdUUepR0i5zn0y1T4CsSB5chy.jpg</td>\n",
       "      <td>...</td>\n",
       "      <td>Drama, Action, Crime, Thriller</td>\n",
       "      <td>DC Comics, Legendary Pictures, Syncopy, Isobel...</td>\n",
       "      <td>United Kingdom, United States of America</td>\n",
       "      <td>English, Mandarin</td>\n",
       "      <td>joker, sadism, chaos, secret identity, crime f...</td>\n",
       "      <td>Christopher Nolan</td>\n",
       "      <td>Jonathan Nolan, Christopher Nolan, David S. Go...</td>\n",
       "      <td>9.0</td>\n",
       "      <td>3022443</td>\n",
       "      <td>Christian Bale, Heath Ledger, Aaron Eckhart, M...</td>\n",
       "    </tr>\n",
       "    <tr>\n",
       "      <th>3</th>\n",
       "      <td>19995</td>\n",
       "      <td>Avatar</td>\n",
       "      <td>7.573</td>\n",
       "      <td>29815</td>\n",
       "      <td>Released</td>\n",
       "      <td>2009-12-15</td>\n",
       "      <td>2923706026</td>\n",
       "      <td>162</td>\n",
       "      <td>False</td>\n",
       "      <td>/vL5LR6WdxWPjLPFRLe133jXWsh5.jpg</td>\n",
       "      <td>...</td>\n",
       "      <td>Action, Adventure, Fantasy, Science Fiction</td>\n",
       "      <td>Dune Entertainment, Lightstorm Entertainment, ...</td>\n",
       "      <td>United States of America, United Kingdom</td>\n",
       "      <td>English, Spanish</td>\n",
       "      <td>future, society, culture clash, space travel, ...</td>\n",
       "      <td>James Cameron</td>\n",
       "      <td>James Cameron</td>\n",
       "      <td>7.9</td>\n",
       "      <td>1431576</td>\n",
       "      <td>Sam Worthington, Zoe Saldaña, Sigourney Weaver...</td>\n",
       "    </tr>\n",
       "    <tr>\n",
       "      <th>4</th>\n",
       "      <td>24428</td>\n",
       "      <td>The Avengers</td>\n",
       "      <td>7.710</td>\n",
       "      <td>29166</td>\n",
       "      <td>Released</td>\n",
       "      <td>2012-04-25</td>\n",
       "      <td>1518815515</td>\n",
       "      <td>143</td>\n",
       "      <td>False</td>\n",
       "      <td>/9BBTo63ANSmhC4e6r62OJFuK2GL.jpg</td>\n",
       "      <td>...</td>\n",
       "      <td>Science Fiction, Action, Adventure</td>\n",
       "      <td>Marvel Studios</td>\n",
       "      <td>United States of America</td>\n",
       "      <td>English, Hindi, Russian</td>\n",
       "      <td>new york city, superhero, shield, based on com...</td>\n",
       "      <td>Joss Whedon</td>\n",
       "      <td>Joss Whedon, Zak Penn</td>\n",
       "      <td>8.0</td>\n",
       "      <td>1508926</td>\n",
       "      <td>Robert Downey Jr., Chris Evans, Mark Ruffalo, ...</td>\n",
       "    </tr>\n",
       "  </tbody>\n",
       "</table>\n",
       "<p>5 rows × 29 columns</p>\n",
       "</div>"
      ],
      "text/plain": [
       "       id            title  vote_average  vote_count    status release_date  \\\n",
       "0   27205        Inception         8.364       34495  Released   2010-07-15   \n",
       "1  157336     Interstellar         8.417       32571  Released   2014-11-05   \n",
       "2     155  The Dark Knight         8.512       30619  Released   2008-07-16   \n",
       "3   19995           Avatar         7.573       29815  Released   2009-12-15   \n",
       "4   24428     The Avengers         7.710       29166  Released   2012-04-25   \n",
       "\n",
       "      revenue  runtime  adult                     backdrop_path  ...  \\\n",
       "0   825532764      148  False  /8ZTVqvKDQ8emSGUEMjsS4yHAwrp.jpg  ...   \n",
       "1   701729206      169  False  /pbrkL804c8yAv3zBZR4QPEafpAR.jpg  ...   \n",
       "2  1004558444      152  False  /nMKdUUepR0i5zn0y1T4CsSB5chy.jpg  ...   \n",
       "3  2923706026      162  False  /vL5LR6WdxWPjLPFRLe133jXWsh5.jpg  ...   \n",
       "4  1518815515      143  False  /9BBTo63ANSmhC4e6r62OJFuK2GL.jpg  ...   \n",
       "\n",
       "                                        genres  \\\n",
       "0           Action, Science Fiction, Adventure   \n",
       "1            Adventure, Drama, Science Fiction   \n",
       "2               Drama, Action, Crime, Thriller   \n",
       "3  Action, Adventure, Fantasy, Science Fiction   \n",
       "4           Science Fiction, Action, Adventure   \n",
       "\n",
       "                                production_companies  \\\n",
       "0  Legendary Pictures, Syncopy, Warner Bros. Pict...   \n",
       "1  Legendary Pictures, Syncopy, Lynda Obst Produc...   \n",
       "2  DC Comics, Legendary Pictures, Syncopy, Isobel...   \n",
       "3  Dune Entertainment, Lightstorm Entertainment, ...   \n",
       "4                                     Marvel Studios   \n",
       "\n",
       "                       production_countries  \\\n",
       "0  United Kingdom, United States of America   \n",
       "1  United Kingdom, United States of America   \n",
       "2  United Kingdom, United States of America   \n",
       "3  United States of America, United Kingdom   \n",
       "4                  United States of America   \n",
       "\n",
       "                     spoken_languages  \\\n",
       "0  English, French, Japanese, Swahili   \n",
       "1                             English   \n",
       "2                   English, Mandarin   \n",
       "3                    English, Spanish   \n",
       "4             English, Hindi, Russian   \n",
       "\n",
       "                                            keywords          directors  \\\n",
       "0  rescue, mission, dream, airplane, paris, franc...  Christopher Nolan   \n",
       "1  rescue, future, spacecraft, race against time,...  Christopher Nolan   \n",
       "2  joker, sadism, chaos, secret identity, crime f...  Christopher Nolan   \n",
       "3  future, society, culture clash, space travel, ...      James Cameron   \n",
       "4  new york city, superhero, shield, based on com...        Joss Whedon   \n",
       "\n",
       "                                             writers averageRating numVotes  \\\n",
       "0                                  Christopher Nolan           8.8  2684780   \n",
       "1                  Jonathan Nolan, Christopher Nolan           8.7  2346977   \n",
       "2  Jonathan Nolan, Christopher Nolan, David S. Go...           9.0  3022443   \n",
       "3                                      James Cameron           7.9  1431576   \n",
       "4                              Joss Whedon, Zak Penn           8.0  1508926   \n",
       "\n",
       "                                                cast  \n",
       "0  Leonardo DiCaprio, Joseph Gordon-Levitt, Ken W...  \n",
       "1  Matthew McConaughey, Anne Hathaway, Michael Ca...  \n",
       "2  Christian Bale, Heath Ledger, Aaron Eckhart, M...  \n",
       "3  Sam Worthington, Zoe Saldaña, Sigourney Weaver...  \n",
       "4  Robert Downey Jr., Chris Evans, Mark Ruffalo, ...  \n",
       "\n",
       "[5 rows x 29 columns]"
      ]
     },
     "execution_count": 3,
     "metadata": {},
     "output_type": "execute_result"
    }
   ],
   "source": [
    "df=pd.read_csv(\"movie.csv\")\n",
    "df.head()"
   ]
  },
  {
   "cell_type": "code",
   "execution_count": 4,
   "id": "fff6b872",
   "metadata": {},
   "outputs": [
    {
     "data": {
      "text/plain": [
       "(434437, 29)"
      ]
     },
     "execution_count": 4,
     "metadata": {},
     "output_type": "execute_result"
    }
   ],
   "source": [
    "df.shape"
   ]
  },
  {
   "cell_type": "code",
   "execution_count": 5,
   "id": "e9a5da7e",
   "metadata": {},
   "outputs": [
    {
     "data": {
      "text/plain": [
       "id                           0\n",
       "title                        0\n",
       "vote_average                 0\n",
       "vote_count                   0\n",
       "status                       0\n",
       "release_date             19080\n",
       "revenue                      0\n",
       "runtime                      0\n",
       "adult                        0\n",
       "backdrop_path           250159\n",
       "budget                       0\n",
       "homepage                380104\n",
       "tconst                       0\n",
       "original_language            0\n",
       "original_title               0\n",
       "overview                 41881\n",
       "popularity                   0\n",
       "poster_path              74954\n",
       "tagline                 343045\n",
       "genres                   78181\n",
       "production_companies    172025\n",
       "production_countries    112788\n",
       "spoken_languages        102419\n",
       "keywords                263675\n",
       "directors                10263\n",
       "writers                  66528\n",
       "averageRating                0\n",
       "numVotes                     0\n",
       "cast                     68578\n",
       "dtype: int64"
      ]
     },
     "execution_count": 5,
     "metadata": {},
     "output_type": "execute_result"
    }
   ],
   "source": [
    "df.isna().sum()"
   ]
  },
  {
   "cell_type": "code",
   "execution_count": 6,
   "id": "924f5e48",
   "metadata": {},
   "outputs": [],
   "source": [
    "df.dropna(subset=[\"overview\", \"tagline\", \"genres\", \"spoken_languages\", \"keywords\",'directors','writers','cast'], inplace=True)\n"
   ]
  },
  {
   "cell_type": "code",
   "execution_count": 7,
   "id": "e9105f90",
   "metadata": {},
   "outputs": [
    {
     "data": {
      "text/plain": [
       "(50162, 29)"
      ]
     },
     "execution_count": 7,
     "metadata": {},
     "output_type": "execute_result"
    }
   ],
   "source": [
    "df.shape"
   ]
  },
  {
   "cell_type": "code",
   "execution_count": 8,
   "id": "2209235b",
   "metadata": {},
   "outputs": [
    {
     "data": {
      "text/plain": [
       "id                          0\n",
       "title                       0\n",
       "vote_average                0\n",
       "vote_count                  0\n",
       "status                      0\n",
       "release_date              157\n",
       "revenue                     0\n",
       "runtime                     0\n",
       "adult                       0\n",
       "backdrop_path            8171\n",
       "budget                      0\n",
       "homepage                39096\n",
       "tconst                      0\n",
       "original_language           0\n",
       "original_title              0\n",
       "overview                    0\n",
       "popularity                  0\n",
       "poster_path              1172\n",
       "tagline                     0\n",
       "genres                      0\n",
       "production_companies     4090\n",
       "production_countries     2116\n",
       "spoken_languages            0\n",
       "keywords                    0\n",
       "directors                   0\n",
       "writers                     0\n",
       "averageRating               0\n",
       "numVotes                    0\n",
       "cast                        0\n",
       "dtype: int64"
      ]
     },
     "execution_count": 8,
     "metadata": {},
     "output_type": "execute_result"
    }
   ],
   "source": [
    "df.isna().sum()"
   ]
  },
  {
   "cell_type": "code",
   "execution_count": 9,
   "id": "5b375d30",
   "metadata": {},
   "outputs": [
    {
     "data": {
      "text/plain": [
       "Index(['id', 'title', 'vote_average', 'vote_count', 'status', 'release_date',\n",
       "       'revenue', 'runtime', 'adult', 'backdrop_path', 'budget', 'homepage',\n",
       "       'tconst', 'original_language', 'original_title', 'overview',\n",
       "       'popularity', 'poster_path', 'tagline', 'genres',\n",
       "       'production_companies', 'production_countries', 'spoken_languages',\n",
       "       'keywords', 'directors', 'writers', 'averageRating', 'numVotes',\n",
       "       'cast'],\n",
       "      dtype='object')"
      ]
     },
     "execution_count": 9,
     "metadata": {},
     "output_type": "execute_result"
    }
   ],
   "source": [
    "df.columns"
   ]
  },
  {
   "cell_type": "code",
   "execution_count": 10,
   "id": "e28992d7",
   "metadata": {},
   "outputs": [],
   "source": [
    "movies = df[['id','title', 'genres', 'tagline', 'cast', 'directors','writers','overview','original_language', 'keywords']]\n"
   ]
  },
  {
   "cell_type": "code",
   "execution_count": 11,
   "id": "b9f51636",
   "metadata": {},
   "outputs": [
    {
     "data": {
      "text/html": [
       "<div>\n",
       "<style scoped>\n",
       "    .dataframe tbody tr th:only-of-type {\n",
       "        vertical-align: middle;\n",
       "    }\n",
       "\n",
       "    .dataframe tbody tr th {\n",
       "        vertical-align: top;\n",
       "    }\n",
       "\n",
       "    .dataframe thead th {\n",
       "        text-align: right;\n",
       "    }\n",
       "</style>\n",
       "<table border=\"1\" class=\"dataframe\">\n",
       "  <thead>\n",
       "    <tr style=\"text-align: right;\">\n",
       "      <th></th>\n",
       "      <th>id</th>\n",
       "      <th>title</th>\n",
       "      <th>genres</th>\n",
       "      <th>tagline</th>\n",
       "      <th>cast</th>\n",
       "      <th>directors</th>\n",
       "      <th>writers</th>\n",
       "      <th>overview</th>\n",
       "      <th>original_language</th>\n",
       "      <th>keywords</th>\n",
       "    </tr>\n",
       "  </thead>\n",
       "  <tbody>\n",
       "    <tr>\n",
       "      <th>0</th>\n",
       "      <td>27205</td>\n",
       "      <td>Inception</td>\n",
       "      <td>Action, Science Fiction, Adventure</td>\n",
       "      <td>Your mind is the scene of the crime.</td>\n",
       "      <td>Leonardo DiCaprio, Joseph Gordon-Levitt, Ken W...</td>\n",
       "      <td>Christopher Nolan</td>\n",
       "      <td>Christopher Nolan</td>\n",
       "      <td>Cobb, a skilled thief who commits corporate es...</td>\n",
       "      <td>en</td>\n",
       "      <td>rescue, mission, dream, airplane, paris, franc...</td>\n",
       "    </tr>\n",
       "    <tr>\n",
       "      <th>1</th>\n",
       "      <td>157336</td>\n",
       "      <td>Interstellar</td>\n",
       "      <td>Adventure, Drama, Science Fiction</td>\n",
       "      <td>Mankind was born on Earth. It was never meant ...</td>\n",
       "      <td>Matthew McConaughey, Anne Hathaway, Michael Ca...</td>\n",
       "      <td>Christopher Nolan</td>\n",
       "      <td>Jonathan Nolan, Christopher Nolan</td>\n",
       "      <td>The adventures of a group of explorers who mak...</td>\n",
       "      <td>en</td>\n",
       "      <td>rescue, future, spacecraft, race against time,...</td>\n",
       "    </tr>\n",
       "  </tbody>\n",
       "</table>\n",
       "</div>"
      ],
      "text/plain": [
       "       id         title                              genres  \\\n",
       "0   27205     Inception  Action, Science Fiction, Adventure   \n",
       "1  157336  Interstellar   Adventure, Drama, Science Fiction   \n",
       "\n",
       "                                             tagline  \\\n",
       "0               Your mind is the scene of the crime.   \n",
       "1  Mankind was born on Earth. It was never meant ...   \n",
       "\n",
       "                                                cast          directors  \\\n",
       "0  Leonardo DiCaprio, Joseph Gordon-Levitt, Ken W...  Christopher Nolan   \n",
       "1  Matthew McConaughey, Anne Hathaway, Michael Ca...  Christopher Nolan   \n",
       "\n",
       "                             writers  \\\n",
       "0                  Christopher Nolan   \n",
       "1  Jonathan Nolan, Christopher Nolan   \n",
       "\n",
       "                                            overview original_language  \\\n",
       "0  Cobb, a skilled thief who commits corporate es...                en   \n",
       "1  The adventures of a group of explorers who mak...                en   \n",
       "\n",
       "                                            keywords  \n",
       "0  rescue, mission, dream, airplane, paris, franc...  \n",
       "1  rescue, future, spacecraft, race against time,...  "
      ]
     },
     "execution_count": 11,
     "metadata": {},
     "output_type": "execute_result"
    }
   ],
   "source": [
    "movies.head(2)"
   ]
  },
  {
   "cell_type": "code",
   "execution_count": 12,
   "id": "f4da00b3",
   "metadata": {},
   "outputs": [],
   "source": [
    "def split_columns_to_list(df, columns):\n",
    "    for column_name in columns:\n",
    "        if column_name in df.columns:\n",
    "            df[column_name] = df[column_name].apply(\n",
    "                lambda x: [i.strip() for i in x.split(',')] if isinstance(x, str) and x else []\n",
    "            )\n",
    "    return df"
   ]
  },
  {
   "cell_type": "code",
   "execution_count": 13,
   "id": "c6f34d23",
   "metadata": {},
   "outputs": [
    {
     "name": "stderr",
     "output_type": "stream",
     "text": [
      "C:\\Users\\gbipi\\AppData\\Local\\Temp\\ipykernel_3048\\2411105849.py:4: SettingWithCopyWarning: \n",
      "A value is trying to be set on a copy of a slice from a DataFrame.\n",
      "Try using .loc[row_indexer,col_indexer] = value instead\n",
      "\n",
      "See the caveats in the documentation: https://pandas.pydata.org/pandas-docs/stable/user_guide/indexing.html#returning-a-view-versus-a-copy\n",
      "  df[column_name] = df[column_name].apply(\n"
     ]
    }
   ],
   "source": [
    "columns_to_split = ['genres', 'tagline', 'cast', 'directors', 'writers','overview','keywords']\n",
    "movies = split_columns_to_list(movies, columns_to_split)"
   ]
  },
  {
   "cell_type": "code",
   "execution_count": 14,
   "id": "6a32384c",
   "metadata": {},
   "outputs": [
    {
     "data": {
      "text/html": [
       "<div>\n",
       "<style scoped>\n",
       "    .dataframe tbody tr th:only-of-type {\n",
       "        vertical-align: middle;\n",
       "    }\n",
       "\n",
       "    .dataframe tbody tr th {\n",
       "        vertical-align: top;\n",
       "    }\n",
       "\n",
       "    .dataframe thead th {\n",
       "        text-align: right;\n",
       "    }\n",
       "</style>\n",
       "<table border=\"1\" class=\"dataframe\">\n",
       "  <thead>\n",
       "    <tr style=\"text-align: right;\">\n",
       "      <th></th>\n",
       "      <th>id</th>\n",
       "      <th>title</th>\n",
       "      <th>genres</th>\n",
       "      <th>tagline</th>\n",
       "      <th>cast</th>\n",
       "      <th>directors</th>\n",
       "      <th>writers</th>\n",
       "      <th>overview</th>\n",
       "      <th>original_language</th>\n",
       "      <th>keywords</th>\n",
       "    </tr>\n",
       "  </thead>\n",
       "  <tbody>\n",
       "    <tr>\n",
       "      <th>0</th>\n",
       "      <td>27205</td>\n",
       "      <td>Inception</td>\n",
       "      <td>[Action, Science Fiction, Adventure]</td>\n",
       "      <td>[Your mind is the scene of the crime.]</td>\n",
       "      <td>[Leonardo DiCaprio, Joseph Gordon-Levitt, Ken ...</td>\n",
       "      <td>[Christopher Nolan]</td>\n",
       "      <td>[Christopher Nolan]</td>\n",
       "      <td>[Cobb, a skilled thief who commits corporate e...</td>\n",
       "      <td>en</td>\n",
       "      <td>[rescue, mission, dream, airplane, paris, fran...</td>\n",
       "    </tr>\n",
       "    <tr>\n",
       "      <th>1</th>\n",
       "      <td>157336</td>\n",
       "      <td>Interstellar</td>\n",
       "      <td>[Adventure, Drama, Science Fiction]</td>\n",
       "      <td>[Mankind was born on Earth. It was never meant...</td>\n",
       "      <td>[Matthew McConaughey, Anne Hathaway, Michael C...</td>\n",
       "      <td>[Christopher Nolan]</td>\n",
       "      <td>[Jonathan Nolan, Christopher Nolan]</td>\n",
       "      <td>[The adventures of a group of explorers who ma...</td>\n",
       "      <td>en</td>\n",
       "      <td>[rescue, future, spacecraft, race against time...</td>\n",
       "    </tr>\n",
       "  </tbody>\n",
       "</table>\n",
       "</div>"
      ],
      "text/plain": [
       "       id         title                                genres  \\\n",
       "0   27205     Inception  [Action, Science Fiction, Adventure]   \n",
       "1  157336  Interstellar   [Adventure, Drama, Science Fiction]   \n",
       "\n",
       "                                             tagline  \\\n",
       "0             [Your mind is the scene of the crime.]   \n",
       "1  [Mankind was born on Earth. It was never meant...   \n",
       "\n",
       "                                                cast            directors  \\\n",
       "0  [Leonardo DiCaprio, Joseph Gordon-Levitt, Ken ...  [Christopher Nolan]   \n",
       "1  [Matthew McConaughey, Anne Hathaway, Michael C...  [Christopher Nolan]   \n",
       "\n",
       "                               writers  \\\n",
       "0                  [Christopher Nolan]   \n",
       "1  [Jonathan Nolan, Christopher Nolan]   \n",
       "\n",
       "                                            overview original_language  \\\n",
       "0  [Cobb, a skilled thief who commits corporate e...                en   \n",
       "1  [The adventures of a group of explorers who ma...                en   \n",
       "\n",
       "                                            keywords  \n",
       "0  [rescue, mission, dream, airplane, paris, fran...  \n",
       "1  [rescue, future, spacecraft, race against time...  "
      ]
     },
     "execution_count": 14,
     "metadata": {},
     "output_type": "execute_result"
    }
   ],
   "source": [
    "movies.head(2)"
   ]
  },
  {
   "cell_type": "code",
   "execution_count": 15,
   "id": "95b3a3bf",
   "metadata": {},
   "outputs": [],
   "source": [
    "cols_to_split = ['genres', 'keywords', 'cast', 'directors', 'writers', 'tagline','overview']\n",
    "\n",
    "for col in cols_to_split:\n",
    "    if col in df.columns:\n",
    "        df[col] = df[col].apply(lambda x: [i.strip() for i in x.split(',')] if isinstance(x, str) else [])\n"
   ]
  },
  {
   "cell_type": "code",
   "execution_count": 16,
   "id": "f55ecacd",
   "metadata": {},
   "outputs": [
    {
     "name": "stderr",
     "output_type": "stream",
     "text": [
      "C:\\Users\\gbipi\\AppData\\Local\\Temp\\ipykernel_3048\\3234747635.py:1: SettingWithCopyWarning: \n",
      "A value is trying to be set on a copy of a slice from a DataFrame.\n",
      "Try using .loc[row_indexer,col_indexer] = value instead\n",
      "\n",
      "See the caveats in the documentation: https://pandas.pydata.org/pandas-docs/stable/user_guide/indexing.html#returning-a-view-versus-a-copy\n",
      "  movies['tags']=movies['genres']+movies['tagline']+movies['cast']+movies['directors']+movies['writers']+movies['overview']+movies['keywords']\n"
     ]
    }
   ],
   "source": [
    "movies['tags']=movies['genres']+movies['tagline']+movies['cast']+movies['directors']+movies['writers']+movies['overview']+movies['keywords']"
   ]
  },
  {
   "cell_type": "code",
   "execution_count": 17,
   "id": "f4b6db2b",
   "metadata": {},
   "outputs": [
    {
     "data": {
      "text/plain": [
       "0         [Action, Science Fiction, Adventure, Your mind...\n",
       "1         [Adventure, Drama, Science Fiction, Mankind wa...\n",
       "2         [Drama, Action, Crime, Thriller, Welcome to a ...\n",
       "3         [Action, Adventure, Fantasy, Science Fiction, ...\n",
       "4         [Science Fiction, Action, Adventure, Some asse...\n",
       "                                ...                        \n",
       "434342    [Horror, HANG YOUR STOCKINGS AND SAY YOUR PRAY...\n",
       "434367    [Animation, Six uncut fully animated cartoons,...\n",
       "434374    [Horror, Comedy, Rock 'N Roll Vampires from He...\n",
       "434391    [Drama, Mystery, Thriller, Don’t believe his l...\n",
       "434422    [Drama, Fantasy, Thriller, The future is not f...\n",
       "Name: tags, Length: 50162, dtype: object"
      ]
     },
     "execution_count": 17,
     "metadata": {},
     "output_type": "execute_result"
    }
   ],
   "source": [
    "movies['tags']"
   ]
  },
  {
   "cell_type": "code",
   "execution_count": 18,
   "id": "876d6611",
   "metadata": {},
   "outputs": [
    {
     "name": "stderr",
     "output_type": "stream",
     "text": [
      "C:\\Users\\gbipi\\AppData\\Local\\Temp\\ipykernel_3048\\2839427491.py:1: SettingWithCopyWarning: \n",
      "A value is trying to be set on a copy of a slice from a DataFrame.\n",
      "Try using .loc[row_indexer,col_indexer] = value instead\n",
      "\n",
      "See the caveats in the documentation: https://pandas.pydata.org/pandas-docs/stable/user_guide/indexing.html#returning-a-view-versus-a-copy\n",
      "  movies['tags'] = movies['tags'].apply(lambda x: \" \".join(x))\n"
     ]
    }
   ],
   "source": [
    "movies['tags'] = movies['tags'].apply(lambda x: \" \".join(x))\n"
   ]
  },
  {
   "cell_type": "code",
   "execution_count": 19,
   "id": "056c713a",
   "metadata": {},
   "outputs": [
    {
     "data": {
      "text/plain": [
       "'Action Science Fiction Adventure Your mind is the scene of the crime. Leonardo DiCaprio Joseph Gordon-Levitt Ken Watanabe Tom Hardy Elliot Page Dileep Rao Cillian Murphy Tom Berenger Marion Cotillard Pete Postlethwaite Christopher Nolan Christopher Nolan Cobb a skilled thief who commits corporate espionage by infiltrating the subconscious of his targets is offered a chance to regain his old life as payment for a task considered to be impossible: \"inception\" the implantation of another person\\'s idea into a target\\'s subconscious. rescue mission dream airplane paris france virtual reality kidnapping philosophy spy allegory manipulation car crash heist memory architecture los angeles california dream world subconscious'"
      ]
     },
     "execution_count": 19,
     "metadata": {},
     "output_type": "execute_result"
    }
   ],
   "source": [
    "movies['tags'][0]"
   ]
  },
  {
   "cell_type": "code",
   "execution_count": 20,
   "id": "8c95c897",
   "metadata": {},
   "outputs": [
    {
     "name": "stderr",
     "output_type": "stream",
     "text": [
      "C:\\Users\\gbipi\\AppData\\Local\\Temp\\ipykernel_3048\\2784451386.py:1: SettingWithCopyWarning: \n",
      "A value is trying to be set on a copy of a slice from a DataFrame.\n",
      "Try using .loc[row_indexer,col_indexer] = value instead\n",
      "\n",
      "See the caveats in the documentation: https://pandas.pydata.org/pandas-docs/stable/user_guide/indexing.html#returning-a-view-versus-a-copy\n",
      "  movies['tags']=movies['tags'].apply(lambda x: x.lower())\n"
     ]
    }
   ],
   "source": [
    "movies['tags']=movies['tags'].apply(lambda x: x.lower())"
   ]
  },
  {
   "cell_type": "code",
   "execution_count": 21,
   "id": "c4c6271d",
   "metadata": {},
   "outputs": [
    {
     "data": {
      "text/html": [
       "<div>\n",
       "<style scoped>\n",
       "    .dataframe tbody tr th:only-of-type {\n",
       "        vertical-align: middle;\n",
       "    }\n",
       "\n",
       "    .dataframe tbody tr th {\n",
       "        vertical-align: top;\n",
       "    }\n",
       "\n",
       "    .dataframe thead th {\n",
       "        text-align: right;\n",
       "    }\n",
       "</style>\n",
       "<table border=\"1\" class=\"dataframe\">\n",
       "  <thead>\n",
       "    <tr style=\"text-align: right;\">\n",
       "      <th></th>\n",
       "      <th>id</th>\n",
       "      <th>title</th>\n",
       "      <th>genres</th>\n",
       "      <th>tagline</th>\n",
       "      <th>cast</th>\n",
       "      <th>directors</th>\n",
       "      <th>writers</th>\n",
       "      <th>overview</th>\n",
       "      <th>original_language</th>\n",
       "      <th>keywords</th>\n",
       "      <th>tags</th>\n",
       "    </tr>\n",
       "  </thead>\n",
       "  <tbody>\n",
       "    <tr>\n",
       "      <th>0</th>\n",
       "      <td>27205</td>\n",
       "      <td>Inception</td>\n",
       "      <td>[Action, Science Fiction, Adventure]</td>\n",
       "      <td>[Your mind is the scene of the crime.]</td>\n",
       "      <td>[Leonardo DiCaprio, Joseph Gordon-Levitt, Ken ...</td>\n",
       "      <td>[Christopher Nolan]</td>\n",
       "      <td>[Christopher Nolan]</td>\n",
       "      <td>[Cobb, a skilled thief who commits corporate e...</td>\n",
       "      <td>en</td>\n",
       "      <td>[rescue, mission, dream, airplane, paris, fran...</td>\n",
       "      <td>action science fiction adventure your mind is ...</td>\n",
       "    </tr>\n",
       "    <tr>\n",
       "      <th>1</th>\n",
       "      <td>157336</td>\n",
       "      <td>Interstellar</td>\n",
       "      <td>[Adventure, Drama, Science Fiction]</td>\n",
       "      <td>[Mankind was born on Earth. It was never meant...</td>\n",
       "      <td>[Matthew McConaughey, Anne Hathaway, Michael C...</td>\n",
       "      <td>[Christopher Nolan]</td>\n",
       "      <td>[Jonathan Nolan, Christopher Nolan]</td>\n",
       "      <td>[The adventures of a group of explorers who ma...</td>\n",
       "      <td>en</td>\n",
       "      <td>[rescue, future, spacecraft, race against time...</td>\n",
       "      <td>adventure drama science fiction mankind was bo...</td>\n",
       "    </tr>\n",
       "    <tr>\n",
       "      <th>2</th>\n",
       "      <td>155</td>\n",
       "      <td>The Dark Knight</td>\n",
       "      <td>[Drama, Action, Crime, Thriller]</td>\n",
       "      <td>[Welcome to a world without rules.]</td>\n",
       "      <td>[Christian Bale, Heath Ledger, Aaron Eckhart, ...</td>\n",
       "      <td>[Christopher Nolan]</td>\n",
       "      <td>[Jonathan Nolan, Christopher Nolan, David S. G...</td>\n",
       "      <td>[Batman raises the stakes in his war on crime....</td>\n",
       "      <td>en</td>\n",
       "      <td>[joker, sadism, chaos, secret identity, crime ...</td>\n",
       "      <td>drama action crime thriller welcome to a world...</td>\n",
       "    </tr>\n",
       "    <tr>\n",
       "      <th>3</th>\n",
       "      <td>19995</td>\n",
       "      <td>Avatar</td>\n",
       "      <td>[Action, Adventure, Fantasy, Science Fiction]</td>\n",
       "      <td>[Enter the world of Pandora.]</td>\n",
       "      <td>[Sam Worthington, Zoe Saldaña, Sigourney Weave...</td>\n",
       "      <td>[James Cameron]</td>\n",
       "      <td>[James Cameron]</td>\n",
       "      <td>[In the 22nd century, a paraplegic Marine is d...</td>\n",
       "      <td>en</td>\n",
       "      <td>[future, society, culture clash, space travel,...</td>\n",
       "      <td>action adventure fantasy science fiction enter...</td>\n",
       "    </tr>\n",
       "    <tr>\n",
       "      <th>4</th>\n",
       "      <td>24428</td>\n",
       "      <td>The Avengers</td>\n",
       "      <td>[Science Fiction, Action, Adventure]</td>\n",
       "      <td>[Some assembly required.]</td>\n",
       "      <td>[Robert Downey Jr., Chris Evans, Mark Ruffalo,...</td>\n",
       "      <td>[Joss Whedon]</td>\n",
       "      <td>[Joss Whedon, Zak Penn]</td>\n",
       "      <td>[When an unexpected enemy emerges and threaten...</td>\n",
       "      <td>en</td>\n",
       "      <td>[new york city, superhero, shield, based on co...</td>\n",
       "      <td>science fiction action adventure some assembly...</td>\n",
       "    </tr>\n",
       "  </tbody>\n",
       "</table>\n",
       "</div>"
      ],
      "text/plain": [
       "       id            title                                         genres  \\\n",
       "0   27205        Inception           [Action, Science Fiction, Adventure]   \n",
       "1  157336     Interstellar            [Adventure, Drama, Science Fiction]   \n",
       "2     155  The Dark Knight               [Drama, Action, Crime, Thriller]   \n",
       "3   19995           Avatar  [Action, Adventure, Fantasy, Science Fiction]   \n",
       "4   24428     The Avengers           [Science Fiction, Action, Adventure]   \n",
       "\n",
       "                                             tagline  \\\n",
       "0             [Your mind is the scene of the crime.]   \n",
       "1  [Mankind was born on Earth. It was never meant...   \n",
       "2                [Welcome to a world without rules.]   \n",
       "3                      [Enter the world of Pandora.]   \n",
       "4                          [Some assembly required.]   \n",
       "\n",
       "                                                cast            directors  \\\n",
       "0  [Leonardo DiCaprio, Joseph Gordon-Levitt, Ken ...  [Christopher Nolan]   \n",
       "1  [Matthew McConaughey, Anne Hathaway, Michael C...  [Christopher Nolan]   \n",
       "2  [Christian Bale, Heath Ledger, Aaron Eckhart, ...  [Christopher Nolan]   \n",
       "3  [Sam Worthington, Zoe Saldaña, Sigourney Weave...      [James Cameron]   \n",
       "4  [Robert Downey Jr., Chris Evans, Mark Ruffalo,...        [Joss Whedon]   \n",
       "\n",
       "                                             writers  \\\n",
       "0                                [Christopher Nolan]   \n",
       "1                [Jonathan Nolan, Christopher Nolan]   \n",
       "2  [Jonathan Nolan, Christopher Nolan, David S. G...   \n",
       "3                                    [James Cameron]   \n",
       "4                            [Joss Whedon, Zak Penn]   \n",
       "\n",
       "                                            overview original_language  \\\n",
       "0  [Cobb, a skilled thief who commits corporate e...                en   \n",
       "1  [The adventures of a group of explorers who ma...                en   \n",
       "2  [Batman raises the stakes in his war on crime....                en   \n",
       "3  [In the 22nd century, a paraplegic Marine is d...                en   \n",
       "4  [When an unexpected enemy emerges and threaten...                en   \n",
       "\n",
       "                                            keywords  \\\n",
       "0  [rescue, mission, dream, airplane, paris, fran...   \n",
       "1  [rescue, future, spacecraft, race against time...   \n",
       "2  [joker, sadism, chaos, secret identity, crime ...   \n",
       "3  [future, society, culture clash, space travel,...   \n",
       "4  [new york city, superhero, shield, based on co...   \n",
       "\n",
       "                                                tags  \n",
       "0  action science fiction adventure your mind is ...  \n",
       "1  adventure drama science fiction mankind was bo...  \n",
       "2  drama action crime thriller welcome to a world...  \n",
       "3  action adventure fantasy science fiction enter...  \n",
       "4  science fiction action adventure some assembly...  "
      ]
     },
     "execution_count": 21,
     "metadata": {},
     "output_type": "execute_result"
    }
   ],
   "source": [
    "movies.head()\n"
   ]
  },
  {
   "cell_type": "code",
   "execution_count": 22,
   "id": "0193b806",
   "metadata": {},
   "outputs": [],
   "source": [
    "movies = movies.reset_index(drop=True)\n"
   ]
  },
  {
   "cell_type": "code",
   "execution_count": 23,
   "id": "e23bacc7",
   "metadata": {},
   "outputs": [],
   "source": [
    "from sklearn.feature_extraction.text import TfidfVectorizer\n",
    "tfidf = TfidfVectorizer(stop_words='english')\n",
    "tfidf_matrix = tfidf.fit_transform(movies['tags'])"
   ]
  },
  {
   "cell_type": "code",
   "execution_count": 24,
   "id": "481b59bd",
   "metadata": {},
   "outputs": [],
   "source": [
    "from sklearn.neighbors import NearestNeighbors\n",
    "import difflib\n",
    "\n",
    "# Fit NearestNeighbors model\n",
    "nbrs = NearestNeighbors(n_neighbors=11, metric='cosine')\n",
    "nbrs.fit(tfidf_matrix)  # Make sure tfidf_matrix matches movie order\n",
    "\n",
    "def recommend(title):\n",
    "    title_lower = title.lower()\n",
    "\n",
    "    # Use difflib to find the closest title match\n",
    "    close_matches = difflib.get_close_matches(title_lower, movies['title'].str.lower(), n=1, cutoff=0.6)\n",
    "\n",
    "    if not close_matches:\n",
    "        print(f\"No close match found for '{title}'\")\n",
    "        return\n",
    "\n",
    "    matched_title = close_matches[0]\n",
    "\n",
    "    # Find index of the matched title\n",
    "    idx = movies[movies['title'].str.lower() == matched_title].index[0]\n",
    "\n",
    "    # Find 11 nearest neighbors (including the input movie itself)\n",
    "    distances, indices = nbrs.kneighbors(tfidf_matrix[idx])\n",
    "\n",
    "    print(f\"\\nTop recommendations for '{movies.loc[idx, 'title']}':\\n\")\n",
    "    for i in indices[0][1:]:  # Skip the first (it’s the same movie)\n",
    "        print(f\"- {movies.loc[i, 'title']}\")\n"
   ]
  },
  {
   "cell_type": "code",
   "execution_count": 25,
   "id": "73c871ba",
   "metadata": {},
   "outputs": [
    {
     "name": "stdout",
     "output_type": "stream",
     "text": [
      "\n",
      "Top recommendations for 'Dhoom':\n",
      "\n",
      "- Dhoom 2\n",
      "- Go Goa Gone\n",
      "- Ek Tha Tiger\n",
      "- Mumbai Saga\n",
      "- Setem\n",
      "- Dum Maaro Dum\n",
      "- Code 8\n",
      "- I Am Ali\n",
      "- Phantom\n",
      "- Electra Glide in Blue\n"
     ]
    }
   ],
   "source": [
    "recommend(\"Dhoom\")"
   ]
  },
  {
   "cell_type": "code",
   "execution_count": 26,
   "id": "1b14a9e6",
   "metadata": {},
   "outputs": [],
   "source": [
    "import pickle\n"
   ]
  },
  {
   "cell_type": "code",
   "execution_count": 27,
   "id": "5a2744e3",
   "metadata": {},
   "outputs": [],
   "source": [
    "pickle.dump(movies, open('movies_data.pkl', 'wb'))"
   ]
  },
  {
   "cell_type": "code",
   "execution_count": 28,
   "id": "8a50dd09",
   "metadata": {},
   "outputs": [],
   "source": [
    "with open('tfidf.pkl', 'wb') as f:\n",
    "    pickle.dump(tfidf, f)"
   ]
  },
  {
   "cell_type": "code",
   "execution_count": 29,
   "id": "e44b75d4",
   "metadata": {},
   "outputs": [],
   "source": [
    "with open('tfidf_matrix.pkl', 'wb') as f:\n",
    "    pickle.dump(tfidf_matrix, f)"
   ]
  },
  {
   "cell_type": "code",
   "execution_count": 30,
   "id": "6c1777b9",
   "metadata": {},
   "outputs": [],
   "source": [
    "with open('nearest_neighbors.pkl', 'wb') as f:\n",
    "    pickle.dump(nbrs, f)"
   ]
  }
 ],
 "metadata": {
  "kernelspec": {
   "display_name": "Python 3",
   "language": "python",
   "name": "python3"
  },
  "language_info": {
   "codemirror_mode": {
    "name": "ipython",
    "version": 3
   },
   "file_extension": ".py",
   "mimetype": "text/x-python",
   "name": "python",
   "nbconvert_exporter": "python",
   "pygments_lexer": "ipython3",
   "version": "3.13.5"
  }
 },
 "nbformat": 4,
 "nbformat_minor": 5
}
